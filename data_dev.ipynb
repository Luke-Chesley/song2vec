{
 "cells": [
  {
   "cell_type": "code",
   "execution_count": 1,
   "metadata": {},
   "outputs": [],
   "source": [
    "from dataset import AudioDataset\n",
    "import os\n",
    "import random"
   ]
  },
  {
   "cell_type": "code",
   "execution_count": 22,
   "metadata": {},
   "outputs": [],
   "source": [
    "parent_dir = 'data/mp3_train_files'\n",
    "file_list = [os.path.join(root, file) \n",
    "             for root, _, files in os.walk(parent_dir) \n",
    "             for file in files]\n",
    "\n",
    "random.seed(42)\n",
    "random.shuffle(file_list)\n",
    "\n",
    "train_size = int(0.8 * len(file_list))\n",
    "val_size = int(0.1 * len(file_list))\n",
    "test_size = len(file_list) - train_size - val_size\n",
    "\n",
    "train_files = file_list[:train_size]\n",
    "val_files = file_list[train_size:train_size + val_size]\n",
    "test_files = file_list[train_size + val_size:]\n",
    "\n",
    "train_dataset = AudioDataset(train_files)\n",
    "val_ds = AudioDataset(val_files)\n",
    "test_ds = AudioDataset(test_files)\n"
   ]
  },
  {
   "cell_type": "code",
   "execution_count": null,
   "metadata": {},
   "outputs": [],
   "source": []
  },
  {
   "cell_type": "code",
   "execution_count": null,
   "metadata": {},
   "outputs": [],
   "source": []
  },
  {
   "cell_type": "code",
   "execution_count": 23,
   "metadata": {},
   "outputs": [
    {
     "name": "stdout",
     "output_type": "stream",
     "text": [
      "Mean of Means: 2.6917646209767554e-06\n",
      "Standard Deviation of Means: 0.00020228265202604234\n",
      "Mean of Standard Deviations: 0.1796083003282547\n",
      "Standard Deviation of Standard Deviations: 0.0337434746325016\n",
      "Overall Min Value: -1.0\n",
      "Overall Max Value: 1.0\n",
      "Mean of Variances: 0.03339776024222374\n",
      "Standard Deviation of Variances: 0.01203190814703703\n",
      "Total NaN Count: 0\n",
      "Total Inf Count: 0\n"
     ]
    }
   ],
   "source": [
    "import numpy as np\n",
    "\n",
    "# Initialize lists to store statistics\n",
    "means = []\n",
    "stds = []\n",
    "min_vals = []\n",
    "max_vals = []\n",
    "variances = []\n",
    "nan_counts = 0\n",
    "inf_counts = 0\n",
    "\n",
    "# Iterate over the entire dataset\n",
    "for i,x in enumerate(test_ds):\n",
    "    inp = x['input_values'][0].numpy()\n",
    "\n",
    "    # Compute statistics\n",
    "    means.append(np.mean(inp))\n",
    "    stds.append(np.std(inp))\n",
    "    min_vals.append(np.min(inp))\n",
    "    max_vals.append(np.max(inp))\n",
    "    variances.append(np.var(inp))\n",
    "    nan_counts += np.isnan(inp).sum()\n",
    "    inf_counts += np.isinf(inp).sum()\n",
    "    if np.isnan(inp).sum() != 0:\n",
    "        print(np.isnan(inp).sum(),i)\n",
    "\n",
    "# Convert lists to numpy arrays for easier calculation of summary statistics\n",
    "means = np.array(means)\n",
    "stds = np.array(stds)\n",
    "min_vals = np.array(min_vals)\n",
    "max_vals = np.array(max_vals)\n",
    "variances = np.array(variances)\n",
    "\n",
    "# Compute summary statistics\n",
    "mean_of_means = np.mean(means)\n",
    "std_of_means = np.std(means)\n",
    "mean_of_stds = np.mean(stds)\n",
    "std_of_stds = np.std(stds)\n",
    "overall_min = np.min(min_vals)\n",
    "overall_max = np.max(max_vals)\n",
    "mean_of_variances = np.mean(variances)\n",
    "std_of_variances = np.std(variances)\n",
    "\n",
    "# Print summary statistics\n",
    "print(f\"Mean of Means: {mean_of_means}\")\n",
    "print(f\"Standard Deviation of Means: {std_of_means}\")\n",
    "print(f\"Mean of Standard Deviations: {mean_of_stds}\")\n",
    "print(f\"Standard Deviation of Standard Deviations: {std_of_stds}\")\n",
    "print(f\"Overall Min Value: {overall_min}\")\n",
    "print(f\"Overall Max Value: {overall_max}\")\n",
    "print(f\"Mean of Variances: {mean_of_variances}\")\n",
    "print(f\"Standard Deviation of Variances: {std_of_variances}\")\n",
    "print(f\"Total NaN Count: {nan_counts}\")\n",
    "print(f\"Total Inf Count: {inf_counts}\")\n"
   ]
  },
  {
   "cell_type": "code",
   "execution_count": null,
   "metadata": {},
   "outputs": [],
   "source": [
    "108827"
   ]
  },
  {
   "cell_type": "code",
   "execution_count": null,
   "metadata": {},
   "outputs": [],
   "source": []
  },
  {
   "cell_type": "code",
   "execution_count": null,
   "metadata": {},
   "outputs": [],
   "source": []
  }
 ],
 "metadata": {
  "kernelspec": {
   "display_name": "venv",
   "language": "python",
   "name": "python3"
  },
  "language_info": {
   "codemirror_mode": {
    "name": "ipython",
    "version": 3
   },
   "file_extension": ".py",
   "mimetype": "text/x-python",
   "name": "python",
   "nbconvert_exporter": "python",
   "pygments_lexer": "ipython3",
   "version": "3.10.12"
  }
 },
 "nbformat": 4,
 "nbformat_minor": 2
}
