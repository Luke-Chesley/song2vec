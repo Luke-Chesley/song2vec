{
 "cells": [
  {
   "cell_type": "code",
   "execution_count": 10,
   "metadata": {},
   "outputs": [],
   "source": [
    "from IPython.display import Audio\n",
    "\n",
    "import torch\n",
    "import torch.nn as nn\n",
    "import torchaudio\n",
    "from utils import *\n",
    "from feature_encoder import ConvFeatureExtractionModel\n",
    "import math\n",
    "\n",
    "torch.random.manual_seed(0)\n",
    "device = torch.device(\"cuda\" if torch.cuda.is_available() else \"cpu\")"
   ]
  },
  {
   "cell_type": "code",
   "execution_count": 2,
   "metadata": {},
   "outputs": [
    {
     "data": {
      "text/plain": [
       "torch.Size([10, 220500])"
      ]
     },
     "execution_count": 2,
     "metadata": {},
     "output_type": "execute_result"
    }
   ],
   "source": [
    "x = []\n",
    "for i in range(1,11):\n",
    "    path = f\"data/mp3_train_files/Gould/Gould - WTC_clip_{i}.mp3\"\n",
    "    waveform,sample_rate = torchaudio.load(path)\n",
    "    waveform = torch.mean(waveform, dim=0).unsqueeze(0)\n",
    "    waveform = normalize_tensor(waveform)\n",
    "    x.append(waveform)\n",
    "\n",
    "\n",
    "x = torch.cat(x)\n",
    "\n",
    "x.shape"
   ]
  },
  {
   "cell_type": "code",
   "execution_count": 11,
   "metadata": {},
   "outputs": [],
   "source": [
    "#plot_waveform(x, sample_rate)"
   ]
  },
  {
   "cell_type": "code",
   "execution_count": 4,
   "metadata": {},
   "outputs": [
    {
     "name": "stdout",
     "output_type": "stream",
     "text": [
      "receptive_field=800 samples\n",
      "18.141 ms\n"
     ]
    }
   ],
   "source": [
    "dim = 512 # quadratic to number of params in conv... double dim quadruple params\n",
    "\n",
    "conv_feature_layers = [(512, 10, 5)] + [(512, 3, 2)] * 5 + [(512, 2, 2)] + [(512, 2, 2)]\n",
    "receptive_field = calculate_receptive_field(conv_feature_layers)\n",
    "print(f\"{receptive_field=} samples\")\n",
    "print(f\"{round(receptive_field / (sample_rate / 1000),3)} ms\")"
   ]
  },
  {
   "cell_type": "code",
   "execution_count": 5,
   "metadata": {},
   "outputs": [
    {
     "name": "stdout",
     "output_type": "stream",
     "text": [
      "num params:  4986880\n",
      "input shape= torch.Size([10, 220500])\n",
      "output shape=  torch.Size([10, 512, 344])\n"
     ]
    }
   ],
   "source": [
    "conv = ConvFeatureExtractionModel(conv_feature_layers)\n",
    "print('num params: ', conv.params())\n",
    "print('input shape=',x.shape)\n",
    "print('output shape= ',conv(x).shape)"
   ]
  },
  {
   "cell_type": "code",
   "execution_count": 9,
   "metadata": {},
   "outputs": [],
   "source": [
    "class SamePad(nn.Module):\n",
    "    def __init__(self, kernel_size, causal=False):\n",
    "        super().__init__()\n",
    "        if causal:\n",
    "            self.remove = kernel_size - 1\n",
    "        else:\n",
    "            self.remove = 1 if kernel_size % 2 == 0 else 0\n",
    "\n",
    "    def forward(self, x):\n",
    "        if self.remove > 0:\n",
    "            x = x[:, :, : -self.remove]\n",
    "        return x\n",
    "\n",
    "\n",
    "def make_conv_pos(e, k, g):\n",
    "    pos_conv = nn.Conv1d(\n",
    "        e,\n",
    "        e,\n",
    "        kernel_size=k,\n",
    "        padding=k // 2,\n",
    "        groups=g,\n",
    "    )\n",
    "    dropout = 0\n",
    "    std = math.sqrt((4 * (1.0 - dropout)) / (k * e))\n",
    "    nn.init.normal_(pos_conv.weight, mean=0, std=std)\n",
    "    nn.init.constant_(pos_conv.bias, 0)\n",
    "\n",
    "    pos_conv = nn.utils.weight_norm(pos_conv, name=\"weight\", dim=2)\n",
    "    pos_conv = nn.Sequential(pos_conv, SamePad(k), nn.GELU())\n",
    "\n",
    "    return pos_conv"
   ]
  },
  {
   "cell_type": "code",
   "execution_count": 12,
   "metadata": {},
   "outputs": [
    {
     "data": {
      "text/plain": [
       "512"
      ]
     },
     "execution_count": 12,
     "metadata": {},
     "output_type": "execute_result"
    }
   ],
   "source": [
    "d = [(512, 10, 5)] + [(512, 3, 2)] * 4 + [(512, 2, 2)] + [(512, 2, 2)]\n",
    "\n",
    "d[-1][0]"
   ]
  },
  {
   "cell_type": "code",
   "execution_count": null,
   "metadata": {},
   "outputs": [],
   "source": []
  }
 ],
 "metadata": {
  "kernelspec": {
   "display_name": "venv",
   "language": "python",
   "name": "python3"
  },
  "language_info": {
   "codemirror_mode": {
    "name": "ipython",
    "version": 3
   },
   "file_extension": ".py",
   "mimetype": "text/x-python",
   "name": "python",
   "nbconvert_exporter": "python",
   "pygments_lexer": "ipython3",
   "version": "3.10.12"
  }
 },
 "nbformat": 4,
 "nbformat_minor": 2
}
